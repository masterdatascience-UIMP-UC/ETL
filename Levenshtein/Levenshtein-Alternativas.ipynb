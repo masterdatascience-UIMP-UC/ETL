{
 "cells": [
  {
   "cell_type": "markdown",
   "metadata": {},
   "source": [
    "# Distancia de Levenshtein\n",
    "La distancia de Levenshtein, distancia de edición o distancia entre palabras es el número mínimo de operaciones requeridas para transformar una cadena de caracteres en otra que pueden ser de distinta longitud. \n",
    "En eso se diferencia de la distancia de Hamming de la que se la considera una generalizacion.\n",
    "\n",
    "Las operaciones son inserción, borrado y substitución.\n",
    "Ejemplos:\n",
    "La distancia entre pero y perro es 1, pues solo require una operación (inserción de la r).\n",
    "La distancia entre silla y y sillón es 2 (sustitucion de a por ó e inserción de n).\n",
    "\n",
    "Existen implementaciones para la mayor parte de los lenguajes de programación, PHP incluso \n",
    "lo trae incorporado (tambien MySQL tienen una función para este cálculo).\n",
    "\n",
    "En Python existen varias librerias que implementan esta métrica, entre otras:\n",
    "- python-Levenshtein\n",
    "- editdistance\n",
    "- StringDist\n",
    "\n",
    "También se pueden encontrar varios ejemplos de diferentes implementaciones en la web.\n",
    "Pero como práctica lo implementaremos. \n",
    "\n",
    "Definimos un metodo levenshtein(a,b) que devuelva la distancia entre dos cadenas de caracteres.\n"
   ]
  },
  {
   "cell_type": "code",
   "execution_count": null,
   "metadata": {},
   "outputs": [],
   "source": [
    "def levenshtein(a, b):\n",
    "    # implementacion\n",
    "    if a==b: return 0\n",
    "    if not a: return len(b)\n",
    "    if not b: return len(a)\n",
    "    return min(levenshtein(a[1:], b[1:])+(a[0] != b[0]), levenshtein(a[1:], b)+1, levenshtein(a, b[1:])+1)\n",
    "    "
   ]
  },
  {
   "cell_type": "markdown",
   "metadata": {},
   "source": [
    "Primero vamos a testear los casos triviales."
   ]
  },
  {
   "cell_type": "code",
   "execution_count": null,
   "metadata": {},
   "outputs": [],
   "source": [
    "print(levenshtein(\"Trivial\", \"Trivial\"))\n",
    "print(levenshtein(\"Trivial\", \"\"))\n",
    "print(levenshtein(\"\", \"\"))\n",
    "print(levenshtein(\"\", \"Trivial\"))\n",
    "print(levenshtein(\"ATGCTAGCATCGATG\", \"ATGCTAGCATCGATG\"))"
   ]
  },
  {
   "cell_type": "markdown",
   "metadata": {},
   "source": [
    "Y ahora algunas cadenas más."
   ]
  },
  {
   "cell_type": "code",
   "execution_count": null,
   "metadata": {},
   "outputs": [],
   "source": [
    "print(levenshtein(\"James\", \"Jack\"))\n",
    "print(levenshtein(\"Santander\", \"Sntander\"))\n",
    "print(levenshtein(\"X129817812\", \"X2189712\"))\n",
    "print(levenshtein(\"García\", \"Garcia\"))\n",
    "print(levenshtein(\"Arriba\", \"Abajo\"))\n",
    "print(levenshtein(\"ATGCTAGCATCGATG\", \"TACGATCGTAGCTAC\"))\n",
    "print(levenshtein(\"Edinburgh\", \"Edimburgo\"))\n",
    "print(levenshtein(\"Chiquinquirá\", \"Zipaquirá\"))"
   ]
  },
  {
   "cell_type": "markdown",
   "metadata": {},
   "source": [
    "Esta implementación, con código muy compacto, presenta problemas de rendimiento, y por ello no puede ejecutar todas las llamadas anteriores.\n",
    "Una alternativa utilizando programación dinámica.\n"
   ]
  },
  {
   "cell_type": "code",
   "execution_count": null,
   "metadata": {},
   "outputs": [],
   "source": [
    "def levenshtein(a, b):\n",
    "    if len(a) < len(b):\n",
    "        return levenshtein(b, a)\n",
    "\n",
    "    if len(b) == 0:\n",
    "        return len(a)\n",
    "\n",
    "    valor = range(len(b) + 1)\n",
    "    for i, c1 in enumerate(a):\n",
    "        actual = [i + 1]\n",
    "        for j, c2 in enumerate(b):\n",
    "            insercion = valor[j + 1] + 1 \n",
    "            borrado = actual[j] + 1       \n",
    "            sustitucion = valor[j] + (c1 != c2)\n",
    "            actual.append(min(insercion, borrado, sustitucion))\n",
    "        valor = actual\n",
    "    \n",
    "    return valor[-1]"
   ]
  },
  {
   "cell_type": "code",
   "execution_count": null,
   "metadata": {},
   "outputs": [],
   "source": [
    "print(levenshtein(\"Trivial\", \"Trivial\"))\n",
    "print(levenshtein(\"Trivial\", \"\"))\n",
    "print(levenshtein(\"\", \"\"))\n",
    "print(levenshtein(\"\", \"Trivial\"))\n",
    "print(levenshtein(\"ATGCTAGCATCGATG\", \"ATGCTAGCATCGATG\"))"
   ]
  },
  {
   "cell_type": "code",
   "execution_count": null,
   "metadata": {},
   "outputs": [],
   "source": [
    "print(levenshtein(\"James\", \"Jack\"))\n",
    "print(levenshtein(\"Santander\", \"Sntander\"))\n",
    "print(levenshtein(\"X129817812\", \"X2189712\"))\n",
    "print(levenshtein(\"García\", \"Garcia\"))\n",
    "print(levenshtein(\"Arriba\", \"Abajo\"))\n",
    "print(levenshtein(\"ATGCTAGCATCGATG\", \"TACGATCGTAGCTAC\"))\n",
    "print(levenshtein(\"Edinburgh\", \"Edimburgo\"))\n",
    "print(levenshtein(\"Chiquinquirá\", \"Zipaquirá\"))"
   ]
  },
  {
   "cell_type": "markdown",
   "metadata": {},
   "source": [
    "Utilizando numpy."
   ]
  },
  {
   "cell_type": "code",
   "execution_count": null,
   "metadata": {},
   "outputs": [],
   "source": [
    "import numpy as np\n",
    "\n",
    "def levenshtein(seq1, seq2):  \n",
    "    size_x = len(seq1) + 1\n",
    "    size_y = len(seq2) + 1\n",
    "    matrix = np.zeros ((size_x, size_y),np.int8)\n",
    "    for x in range(size_x):\n",
    "        matrix [x, 0] = x\n",
    "    for y in range(size_y):\n",
    "        matrix [0, y] = y\n",
    "\n",
    "    for x in range(1, size_x):\n",
    "        for y in range(1, size_y):\n",
    "            if seq1[x-1] == seq2[y-1]:\n",
    "                matrix [x,y] = min(\n",
    "                    matrix[x-1, y] + 1,\n",
    "                    matrix[x-1, y-1],\n",
    "                    matrix[x, y-1] + 1\n",
    "                )\n",
    "            else:\n",
    "                matrix [x,y] = min(\n",
    "                    matrix[x-1,y] + 1,\n",
    "                    matrix[x-1,y-1] + 1,\n",
    "                    matrix[x,y-1] + 1\n",
    "                )\n",
    "    return (matrix[size_x - 1, size_y - 1])"
   ]
  },
  {
   "cell_type": "code",
   "execution_count": null,
   "metadata": {},
   "outputs": [],
   "source": [
    "print(levenshtein(\"Trivial\", \"Trivial\"))\n",
    "print(levenshtein(\"Trivial\", \"\"))\n",
    "print(levenshtein(\"\", \"\"))\n",
    "print(levenshtein(\"\", \"Trivial\"))\n",
    "print(levenshtein(\"ATGCTAGCATCGATG\", \"ATGCTAGCATCGATG\"))"
   ]
  },
  {
   "cell_type": "code",
   "execution_count": null,
   "metadata": {},
   "outputs": [],
   "source": [
    "print(levenshtein(\"James\", \"Jack\"))\n",
    "print(levenshtein(\"Santander\", \"Sntander\"))\n",
    "print(levenshtein(\"X129817812\", \"X2189712\"))\n",
    "print(levenshtein(\"García\", \"Garcia\"))\n",
    "print(levenshtein(\"Arriba\", \"Abajo\"))\n",
    "print(levenshtein(\"ATGCTAGCATCGATG\", \"TACGATCGTAGCTAC\"))\n",
    "print(levenshtein(\"Edinburgh\", \"Edimburgo\"))\n",
    "print(levenshtein(\"Chiquinquirá\", \"Zipaquirá\"))"
   ]
  },
  {
   "cell_type": "markdown",
   "metadata": {},
   "source": [
    "Finalmente la implementación iterativa que aparece en Wikipedia."
   ]
  },
  {
   "cell_type": "code",
   "execution_count": null,
   "metadata": {},
   "outputs": [],
   "source": [
    "# Christopher P. Matthews\n",
    "# christophermatthews1985@gmail.com\n",
    "# Sacramento, CA, USA\n",
    "\n",
    "def levenshtein(s, t):\n",
    "        ''' From Wikipedia article; Iterative with two matrix rows. '''\n",
    "        if s == t: return 0\n",
    "        elif len(s) == 0: return len(t)\n",
    "        elif len(t) == 0: return len(s)\n",
    "        v0 = [None] * (len(t) + 1)\n",
    "        v1 = [None] * (len(t) + 1)\n",
    "        for i in range(len(v0)):\n",
    "            v0[i] = i\n",
    "        for i in range(len(s)):\n",
    "            v1[0] = i + 1\n",
    "            for j in range(len(t)):\n",
    "                cost = 0 if s[i] == t[j] else 1\n",
    "                v1[j + 1] = min(v1[j] + 1, v0[j + 1] + 1, v0[j] + cost)\n",
    "            for j in range(len(v0)):\n",
    "                v0[j] = v1[j]\n",
    "                \n",
    "        return v1[len(t)]"
   ]
  },
  {
   "cell_type": "code",
   "execution_count": null,
   "metadata": {},
   "outputs": [],
   "source": [
    "print(levenshtein(\"Trivial\", \"Trivial\"))\n",
    "print(levenshtein(\"Trivial\", \"\"))\n",
    "print(levenshtein(\"\", \"\"))\n",
    "print(levenshtein(\"\", \"Trivial\"))\n",
    "print(levenshtein(\"ATGCTAGCATCGATG\", \"ATGCTAGCATCGATG\"))"
   ]
  },
  {
   "cell_type": "code",
   "execution_count": null,
   "metadata": {},
   "outputs": [],
   "source": [
    "print(levenshtein(\"James\", \"Jack\"))\n",
    "print(levenshtein(\"Santander\", \"Sntander\"))\n",
    "print(levenshtein(\"X129817812\", \"X2189712\"))\n",
    "print(levenshtein(\"García\", \"Garcia\"))\n",
    "print(levenshtein(\"Arriba\", \"Abajo\"))\n",
    "print(levenshtein(\"ATGCTAGCATCGATG\", \"TACGATCGTAGCTAC\"))\n",
    "print(levenshtein(\"Edinburgh\", \"Edimburgo\"))\n",
    "print(levenshtein(\"Chiquinquirá\", \"Zipaquirá\"))"
   ]
  }
 ],
 "metadata": {
  "kernelspec": {
   "display_name": "Python 3",
   "language": "python",
   "name": "python3"
  },
  "language_info": {
   "codemirror_mode": {
    "name": "ipython",
    "version": 3
   },
   "file_extension": ".py",
   "mimetype": "text/x-python",
   "name": "python",
   "nbconvert_exporter": "python",
   "pygments_lexer": "ipython3",
   "version": "3.6.6"
  }
 },
 "nbformat": 4,
 "nbformat_minor": 2
}
